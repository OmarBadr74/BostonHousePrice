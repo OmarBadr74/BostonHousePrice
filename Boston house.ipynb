{
 "cells": [
  {
   "cell_type": "code",
   "execution_count": 1,
   "id": "0af3708a",
   "metadata": {},
   "outputs": [],
   "source": [
    "# import libraries \n",
    "import numpy as np \n",
    "import pandas as pd\n",
    "import matplotlib.pyplot as plt\n",
    "from sklearn import linear_model\n",
    "from sklearn.model_selection import train_test_split"
   ]
  },
  {
   "cell_type": "code",
   "execution_count": 2,
   "id": "cf50dd85",
   "metadata": {},
   "outputs": [
    {
     "name": "stderr",
     "output_type": "stream",
     "text": [
      "C:\\Users\\obadr\\anaconda3\\lib\\site-packages\\sklearn\\utils\\deprecation.py:87: FutureWarning: Function load_boston is deprecated; `load_boston` is deprecated in 1.0 and will be removed in 1.2.\n",
      "\n",
      "    The Boston housing prices dataset has an ethical problem. You can refer to\n",
      "    the documentation of this function for further details.\n",
      "\n",
      "    The scikit-learn maintainers therefore strongly discourage the use of this\n",
      "    dataset unless the purpose of the code is to study and educate about\n",
      "    ethical issues in data science and machine learning.\n",
      "\n",
      "    In this special case, you can fetch the dataset from the original\n",
      "    source::\n",
      "\n",
      "        import pandas as pd\n",
      "        import numpy as np\n",
      "\n",
      "        data_url = \"http://lib.stat.cmu.edu/datasets/boston\"\n",
      "        raw_df = pd.read_csv(data_url, sep=\"\\s+\", skiprows=22, header=None)\n",
      "        data = np.hstack([raw_df.values[::2, :], raw_df.values[1::2, :2]])\n",
      "        target = raw_df.values[1::2, 2]\n",
      "\n",
      "    Alternative datasets include the California housing dataset (i.e.\n",
      "    :func:`~sklearn.datasets.fetch_california_housing`) and the Ames housing\n",
      "    dataset. You can load the datasets as follows::\n",
      "\n",
      "        from sklearn.datasets import fetch_california_housing\n",
      "        housing = fetch_california_housing()\n",
      "\n",
      "    for the California housing dataset and::\n",
      "\n",
      "        from sklearn.datasets import fetch_openml\n",
      "        housing = fetch_openml(name=\"house_prices\", as_frame=True)\n",
      "\n",
      "    for the Ames housing dataset.\n",
      "  warnings.warn(msg, category=FutureWarning)\n"
     ]
    }
   ],
   "source": [
    "# import boston house dataset\n",
    "from sklearn.datasets import load_boston\n",
    "boston = load_boston()"
   ]
  },
  {
   "cell_type": "code",
   "execution_count": 4,
   "id": "2ad0fba3",
   "metadata": {},
   "outputs": [],
   "source": [
    "# split the data\n",
    "df_x = pd.DataFrame(boston.data, columns= boston.feature_names)\n",
    "df_y = pd.DataFrame(boston.target)\n"
   ]
  },
  {
   "cell_type": "code",
   "execution_count": 5,
   "id": "725712b1",
   "metadata": {},
   "outputs": [],
   "source": [
    "# intialize linear model\n",
    "reg = linear_model.LinearRegression()"
   ]
  },
  {
   "cell_type": "code",
   "execution_count": 6,
   "id": "1fa5bf2d",
   "metadata": {},
   "outputs": [],
   "source": [
    "# split the data into training and test \n",
    "x_train, x_test, y_train, y_test = train_test_split(df_x, df_y, test_size=0.33, random_state=35 )"
   ]
  },
  {
   "cell_type": "code",
   "execution_count": 7,
   "id": "935d0adb",
   "metadata": {},
   "outputs": [
    {
     "data": {
      "text/html": [
       "<style>#sk-container-id-1 {color: black;background-color: white;}#sk-container-id-1 pre{padding: 0;}#sk-container-id-1 div.sk-toggleable {background-color: white;}#sk-container-id-1 label.sk-toggleable__label {cursor: pointer;display: block;width: 100%;margin-bottom: 0;padding: 0.3em;box-sizing: border-box;text-align: center;}#sk-container-id-1 label.sk-toggleable__label-arrow:before {content: \"▸\";float: left;margin-right: 0.25em;color: #696969;}#sk-container-id-1 label.sk-toggleable__label-arrow:hover:before {color: black;}#sk-container-id-1 div.sk-estimator:hover label.sk-toggleable__label-arrow:before {color: black;}#sk-container-id-1 div.sk-toggleable__content {max-height: 0;max-width: 0;overflow: hidden;text-align: left;background-color: #f0f8ff;}#sk-container-id-1 div.sk-toggleable__content pre {margin: 0.2em;color: black;border-radius: 0.25em;background-color: #f0f8ff;}#sk-container-id-1 input.sk-toggleable__control:checked~div.sk-toggleable__content {max-height: 200px;max-width: 100%;overflow: auto;}#sk-container-id-1 input.sk-toggleable__control:checked~label.sk-toggleable__label-arrow:before {content: \"▾\";}#sk-container-id-1 div.sk-estimator input.sk-toggleable__control:checked~label.sk-toggleable__label {background-color: #d4ebff;}#sk-container-id-1 div.sk-label input.sk-toggleable__control:checked~label.sk-toggleable__label {background-color: #d4ebff;}#sk-container-id-1 input.sk-hidden--visually {border: 0;clip: rect(1px 1px 1px 1px);clip: rect(1px, 1px, 1px, 1px);height: 1px;margin: -1px;overflow: hidden;padding: 0;position: absolute;width: 1px;}#sk-container-id-1 div.sk-estimator {font-family: monospace;background-color: #f0f8ff;border: 1px dotted black;border-radius: 0.25em;box-sizing: border-box;margin-bottom: 0.5em;}#sk-container-id-1 div.sk-estimator:hover {background-color: #d4ebff;}#sk-container-id-1 div.sk-parallel-item::after {content: \"\";width: 100%;border-bottom: 1px solid gray;flex-grow: 1;}#sk-container-id-1 div.sk-label:hover label.sk-toggleable__label {background-color: #d4ebff;}#sk-container-id-1 div.sk-serial::before {content: \"\";position: absolute;border-left: 1px solid gray;box-sizing: border-box;top: 0;bottom: 0;left: 50%;z-index: 0;}#sk-container-id-1 div.sk-serial {display: flex;flex-direction: column;align-items: center;background-color: white;padding-right: 0.2em;padding-left: 0.2em;position: relative;}#sk-container-id-1 div.sk-item {position: relative;z-index: 1;}#sk-container-id-1 div.sk-parallel {display: flex;align-items: stretch;justify-content: center;background-color: white;position: relative;}#sk-container-id-1 div.sk-item::before, #sk-container-id-1 div.sk-parallel-item::before {content: \"\";position: absolute;border-left: 1px solid gray;box-sizing: border-box;top: 0;bottom: 0;left: 50%;z-index: -1;}#sk-container-id-1 div.sk-parallel-item {display: flex;flex-direction: column;z-index: 1;position: relative;background-color: white;}#sk-container-id-1 div.sk-parallel-item:first-child::after {align-self: flex-end;width: 50%;}#sk-container-id-1 div.sk-parallel-item:last-child::after {align-self: flex-start;width: 50%;}#sk-container-id-1 div.sk-parallel-item:only-child::after {width: 0;}#sk-container-id-1 div.sk-dashed-wrapped {border: 1px dashed gray;margin: 0 0.4em 0.5em 0.4em;box-sizing: border-box;padding-bottom: 0.4em;background-color: white;}#sk-container-id-1 div.sk-label label {font-family: monospace;font-weight: bold;display: inline-block;line-height: 1.2em;}#sk-container-id-1 div.sk-label-container {text-align: center;}#sk-container-id-1 div.sk-container {/* jupyter's `normalize.less` sets `[hidden] { display: none; }` but bootstrap.min.css set `[hidden] { display: none !important; }` so we also need the `!important` here to be able to override the default hidden behavior on the sphinx rendered scikit-learn.org. See: https://github.com/scikit-learn/scikit-learn/issues/21755 */display: inline-block !important;position: relative;}#sk-container-id-1 div.sk-text-repr-fallback {display: none;}</style><div id=\"sk-container-id-1\" class=\"sk-top-container\"><div class=\"sk-text-repr-fallback\"><pre>LinearRegression()</pre><b>In a Jupyter environment, please rerun this cell to show the HTML representation or trust the notebook. <br />On GitHub, the HTML representation is unable to render, please try loading this page with nbviewer.org.</b></div><div class=\"sk-container\" hidden><div class=\"sk-item\"><div class=\"sk-estimator sk-toggleable\"><input class=\"sk-toggleable__control sk-hidden--visually\" id=\"sk-estimator-id-1\" type=\"checkbox\" checked><label for=\"sk-estimator-id-1\" class=\"sk-toggleable__label sk-toggleable__label-arrow\">LinearRegression</label><div class=\"sk-toggleable__content\"><pre>LinearRegression()</pre></div></div></div></div></div>"
      ],
      "text/plain": [
       "LinearRegression()"
      ]
     },
     "execution_count": 7,
     "metadata": {},
     "output_type": "execute_result"
    }
   ],
   "source": [
    "# train the model\n",
    "reg.fit(x_train,y_train)"
   ]
  },
  {
   "cell_type": "code",
   "execution_count": 8,
   "id": "338a9059",
   "metadata": {},
   "outputs": [
    {
     "name": "stdout",
     "output_type": "stream",
     "text": [
      "[[-1.15538619e-01  3.48054919e-02  1.44086839e-02  3.02545390e+00\n",
      "  -1.46006150e+01  3.67159773e+00 -2.58217199e-03 -1.25254848e+00\n",
      "   3.54612586e-01 -1.47167272e-02 -1.00150213e+00  9.54291188e-03\n",
      "  -5.39290422e-01]]\n"
     ]
    }
   ],
   "source": [
    "# print coeffeccients\n",
    "print(reg.coef_)\n"
   ]
  },
  {
   "cell_type": "code",
   "execution_count": 9,
   "id": "b6ac2886",
   "metadata": {},
   "outputs": [
    {
     "name": "stdout",
     "output_type": "stream",
     "text": [
      "[[21.3979038 ]\n",
      " [21.92597259]\n",
      " [27.36767564]\n",
      " [16.28088534]\n",
      " [12.96176   ]\n",
      " [18.58372976]\n",
      " [23.57223022]\n",
      " [25.47807166]\n",
      " [26.60097994]\n",
      " [20.93262559]\n",
      " [23.9969233 ]\n",
      " [31.22522134]\n",
      " [12.24188471]\n",
      " [22.37327297]\n",
      " [22.00831558]\n",
      " [32.75805571]\n",
      " [15.71628827]\n",
      " [18.19968934]\n",
      " [22.79447071]\n",
      " [16.97111916]\n",
      " [25.17534022]\n",
      " [25.51490327]\n",
      " [17.53217029]\n",
      " [30.9809354 ]\n",
      " [20.53655825]\n",
      " [ 4.65259241]\n",
      " [38.25330872]\n",
      " [17.88092696]\n",
      " [25.23533577]\n",
      " [24.91100875]\n",
      " [25.25788175]\n",
      " [31.65038912]\n",
      " [23.62641051]\n",
      " [29.03020737]\n",
      " [24.86005745]\n",
      " [32.3012794 ]\n",
      " [25.78326027]\n",
      " [24.58431174]\n",
      " [ 5.92441126]\n",
      " [28.55545029]\n",
      " [23.1176584 ]\n",
      " [25.20556235]\n",
      " [17.3928134 ]\n",
      " [17.26675925]\n",
      " [19.56710523]\n",
      " [18.88428703]\n",
      " [22.96927951]\n",
      " [33.01203437]\n",
      " [20.27867851]\n",
      " [17.9675504 ]\n",
      " [ 6.27990031]\n",
      " [28.41205039]\n",
      " [23.14074688]\n",
      " [41.39862893]\n",
      " [26.37095859]\n",
      " [ 7.83234163]\n",
      " [28.83852244]\n",
      " [35.42260256]\n",
      " [27.37123417]\n",
      " [20.41497182]\n",
      " [23.44848253]\n",
      " [20.2729708 ]\n",
      " [18.72220968]\n",
      " [14.73798481]\n",
      " [24.97167873]\n",
      " [28.45517784]\n",
      " [25.95686246]\n",
      " [25.92737994]\n",
      " [26.17709995]\n",
      " [36.23788726]\n",
      " [28.58668124]\n",
      " [37.75073166]\n",
      " [20.28169406]\n",
      " [27.17755367]\n",
      " [ 6.79601388]\n",
      " [19.83085999]\n",
      " [17.79754139]\n",
      " [18.87690976]\n",
      " [20.12755422]\n",
      " [20.35634997]\n",
      " [23.1227806 ]\n",
      " [21.54708536]\n",
      " [16.24589815]\n",
      " [19.16616721]\n",
      " [19.82265075]\n",
      " [19.48579968]\n",
      " [22.43584441]\n",
      " [15.23258858]\n",
      " [24.10721199]\n",
      " [20.77591625]\n",
      " [17.56773674]\n",
      " [21.49651604]\n",
      " [25.18516142]\n",
      " [21.90357449]\n",
      " [15.27742811]\n",
      " [17.77786899]\n",
      " [21.56068162]\n",
      " [15.26433036]\n",
      " [25.32449642]\n",
      " [19.06580902]\n",
      " [ 5.72623006]\n",
      " [19.46339594]\n",
      " [20.80110884]\n",
      " [21.08184636]\n",
      " [20.03065236]\n",
      " [28.62324755]\n",
      " [17.71652608]\n",
      " [21.45974306]\n",
      " [24.89456384]\n",
      " [19.40046456]\n",
      " [21.25903275]\n",
      " [22.24070863]\n",
      " [37.25372883]\n",
      " [21.99857784]\n",
      " [40.49147078]\n",
      " [36.53616932]\n",
      " [15.71650192]\n",
      " [24.72847498]\n",
      " [19.99890457]\n",
      " [16.53781313]\n",
      " [ 1.07946935]\n",
      " [24.28354619]\n",
      " [24.77975494]\n",
      " [24.48867103]\n",
      " [20.1875498 ]\n",
      " [34.92682529]\n",
      " [27.47103563]\n",
      " [12.92996138]\n",
      " [24.70249689]\n",
      " [21.07290344]\n",
      " [20.29938964]\n",
      " [26.12744486]\n",
      " [23.46583877]\n",
      " [14.51881656]\n",
      " [33.82133009]\n",
      " [19.17425238]\n",
      " [35.16525697]\n",
      " [20.87336686]\n",
      " [28.72612105]\n",
      " [24.6176069 ]\n",
      " [36.5502205 ]\n",
      " [37.03698905]\n",
      " [18.34457061]\n",
      " [13.4848048 ]\n",
      " [14.10715979]\n",
      " [16.58044325]\n",
      " [24.89784675]\n",
      " [31.2637031 ]\n",
      " [33.47610222]\n",
      " [34.83382117]\n",
      " [16.9205658 ]\n",
      " [31.99814811]\n",
      " [25.48920169]\n",
      " [11.23495519]\n",
      " [30.55423435]\n",
      " [26.45919216]\n",
      " [39.58065061]\n",
      " [ 3.07174566]\n",
      " [ 2.20741337]\n",
      " [16.68333604]\n",
      " [22.37798306]\n",
      " [13.89535305]\n",
      " [41.83718104]\n",
      " [23.45975016]\n",
      " [10.64900247]\n",
      " [18.13961277]\n",
      " [11.51485134]]\n"
     ]
    }
   ],
   "source": [
    "# print prediction on test data\n",
    "y_pred = reg.predict(x_test)\n",
    "print(y_pred)"
   ]
  },
  {
   "cell_type": "code",
   "execution_count": 10,
   "id": "f7774ff6",
   "metadata": {},
   "outputs": [
    {
     "name": "stdout",
     "output_type": "stream",
     "text": [
      "        0\n",
      "483  21.8\n",
      "330  19.8\n",
      "287  23.2\n",
      "146  15.6\n",
      "416   7.5\n",
      "..    ...\n",
      "163  50.0\n",
      "480  23.0\n",
      "399   6.3\n",
      "431  14.1\n",
      "400   5.6\n",
      "\n",
      "[167 rows x 1 columns]\n"
     ]
    }
   ],
   "source": [
    "# print actual values\n",
    "print(y_test)\n"
   ]
  },
  {
   "cell_type": "code",
   "execution_count": 11,
   "id": "5a32aa0b",
   "metadata": {},
   "outputs": [
    {
     "name": "stdout",
     "output_type": "stream",
     "text": [
      "24.2182584266091\n"
     ]
    }
   ],
   "source": [
    "# check model performance\n",
    "from sklearn.metrics import mean_squared_error\n",
    "print(mean_squared_error(y_test,y_pred))\n"
   ]
  },
  {
   "cell_type": "code",
   "execution_count": 12,
   "id": "2e8a68e6",
   "metadata": {},
   "outputs": [
    {
     "data": {
      "image/png": "[encoded data removed]",
      "text/plain": [
       "<Figure size 640x480 with 1 Axes>"
      ]
     },
     "metadata": {},
     "output_type": "display_data"
    }
   ],
   "source": [
    "# Visualizing the differences between actual prices and predicted values\n",
    "plt.scatter(y_test, y_pred)\n",
    "plt.xlabel(\"Prices\")\n",
    "plt.ylabel(\"Predicted prices\")\n",
    "plt.title(\"Prices vs Predicted prices\")\n",
    "plt.show()"
   ]
  },
  {
   "cell_type": "code",
   "execution_count": null,
   "id": "f7248b9b",
   "metadata": {},
   "outputs": [],
   "source": []
  }
 ],
 "metadata": {
  "kernelspec": {
   "display_name": "Python 3 (ipykernel)",
   "language": "python",
   "name": "python3"
  },
  "language_info": {
   "codemirror_mode": {
    "name": "ipython",
    "version": 3
   },
   "file_extension": ".py",
   "mimetype": "text/x-python",
   "name": "python",
   "nbconvert_exporter": "python",
   "pygments_lexer": "ipython3",
   "version": "3.9.12"
  }
 },
 "nbformat": 4,
 "nbformat_minor": 5
}
